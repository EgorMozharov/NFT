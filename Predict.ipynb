{
 "cells": [
  {
   "cell_type": "code",
   "execution_count": 1,
   "metadata": {
    "collapsed": true
   },
   "outputs": [
    {
     "name": "stdout",
     "output_type": "stream",
     "text": [
      "Requirement already satisfied: pandas in c:\\users\\egor\\appdata\\local\\programs\\python\\python39\\lib\\site-packages (1.1.4)\n",
      "Requirement already satisfied: python-dateutil>=2.7.3 in c:\\users\\egor\\appdata\\local\\programs\\python\\python39\\lib\\site-packages (from pandas) (2.8.1)\n"
     ]
    },
    {
     "name": "stderr",
     "output_type": "stream",
     "text": [
      "WARNING: You are using pip version 21.3.1; however, version 22.1.2 is available.\n",
      "You should consider upgrading via the 'c:\\users\\egor\\appdata\\local\\programs\\python\\python39\\python.exe -m pip install --upgrade pip' command.\n"
     ]
    },
    {
     "name": "stdout",
     "output_type": "stream",
     "text": [
      "Requirement already satisfied: pytz>=2017.2 in c:\\users\\egor\\appdata\\local\\programs\\python\\python39\\lib\\site-packages (from pandas) (2020.4)\n",
      "Requirement already satisfied: numpy>=1.15.4 in c:\\users\\egor\\appdata\\local\\programs\\python\\python39\\lib\\site-packages (from pandas) (1.19.3)\n",
      "Requirement already satisfied: six>=1.5 in c:\\users\\egor\\appdata\\local\\programs\\python\\python39\\lib\\site-packages (from python-dateutil>=2.7.3->pandas) (1.15.0)\n",
      "Requirement already satisfied: numpy in c:\\users\\egor\\appdata\\local\\programs\\python\\python39\\lib\\site-packages (1.19.3)\n"
     ]
    },
    {
     "name": "stderr",
     "output_type": "stream",
     "text": [
      "WARNING: You are using pip version 21.3.1; however, version 22.1.2 is available.\n",
      "You should consider upgrading via the 'c:\\users\\egor\\appdata\\local\\programs\\python\\python39\\python.exe -m pip install --upgrade pip' command.\n"
     ]
    },
    {
     "name": "stdout",
     "output_type": "stream",
     "text": [
      "Requirement already satisfied: matplotlib in c:\\users\\egor\\appdata\\local\\programs\\python\\python39\\lib\\site-packages (3.3.3)\n",
      "Requirement already satisfied: numpy>=1.15 in c:\\users\\egor\\appdata\\local\\programs\\python\\python39\\lib\\site-packages (from matplotlib) (1.19.3)\n",
      "Requirement already satisfied: cycler>=0.10 in c:\\users\\egor\\appdata\\local\\programs\\python\\python39\\lib\\site-packages (from matplotlib) (0.10.0)\n",
      "Requirement already satisfied: pillow>=6.2.0 in c:\\users\\egor\\appdata\\local\\programs\\python\\python39\\lib\\site-packages (from matplotlib) (8.0.1)\n",
      "Requirement already satisfied: kiwisolver>=1.0.1 in c:\\users\\egor\\appdata\\local\\programs\\python\\python39\\lib\\site-packages (from matplotlib) (1.3.1)\n",
      "Requirement already satisfied: pyparsing!=2.0.4,!=2.1.2,!=2.1.6,>=2.0.3 in c:\\users\\egor\\appdata\\local\\programs\\python\\python39\\lib\\site-packages (from matplotlib) (2.4.7)\n",
      "Requirement already satisfied: python-dateutil>=2.1 in c:\\users\\egor\\appdata\\local\\programs\\python\\python39\\lib\\site-packages (from matplotlib) (2.8.1)\n",
      "Requirement already satisfied: six in c:\\users\\egor\\appdata\\local\\programs\\python\\python39\\lib\\site-packages (from cycler>=0.10->matplotlib) (1.15.0)\n"
     ]
    },
    {
     "name": "stderr",
     "output_type": "stream",
     "text": [
      "WARNING: You are using pip version 21.3.1; however, version 22.1.2 is available.\n",
      "You should consider upgrading via the 'c:\\users\\egor\\appdata\\local\\programs\\python\\python39\\python.exe -m pip install --upgrade pip' command.\n"
     ]
    },
    {
     "name": "stdout",
     "output_type": "stream",
     "text": [
      "Requirement already satisfied: statsmodels in c:\\users\\egor\\appdata\\local\\programs\\python\\python39\\lib\\site-packages (0.12.2)\n",
      "Requirement already satisfied: pandas>=0.21 in c:\\users\\egor\\appdata\\local\\programs\\python\\python39\\lib\\site-packages (from statsmodels) (1.1.4)\n",
      "Requirement already satisfied: scipy>=1.1 in c:\\users\\egor\\appdata\\local\\programs\\python\\python39\\lib\\site-packages (from statsmodels) (1.5.4)\n",
      "Requirement already satisfied: numpy>=1.15 in c:\\users\\egor\\appdata\\local\\programs\\python\\python39\\lib\\site-packages (from statsmodels) (1.19.3)\n",
      "Requirement already satisfied: patsy>=0.5 in c:\\users\\egor\\appdata\\local\\programs\\python\\python39\\lib\\site-packages (from statsmodels) (0.5.1)\n",
      "Requirement already satisfied: python-dateutil>=2.7.3 in c:\\users\\egor\\appdata\\local\\programs\\python\\python39\\lib\\site-packages (from pandas>=0.21->statsmodels) (2.8.1)\n",
      "Requirement already satisfied: pytz>=2017.2 in c:\\users\\egor\\appdata\\local\\programs\\python\\python39\\lib\\site-packages (from pandas>=0.21->statsmodels) (2020.4)\n",
      "Requirement already satisfied: six in c:\\users\\egor\\appdata\\local\\programs\\python\\python39\\lib\\site-packages (from patsy>=0.5->statsmodels) (1.15.0)\n"
     ]
    },
    {
     "name": "stderr",
     "output_type": "stream",
     "text": [
      "WARNING: You are using pip version 21.3.1; however, version 22.1.2 is available.\n",
      "You should consider upgrading via the 'c:\\users\\egor\\appdata\\local\\programs\\python\\python39\\python.exe -m pip install --upgrade pip' command.\n"
     ]
    },
    {
     "name": "stdout",
     "output_type": "stream",
     "text": [
      "Requirement already satisfied: sklearn in c:\\users\\egor\\appdata\\local\\programs\\python\\python39\\lib\\site-packages (0.0)\n",
      "Requirement already satisfied: scikit-learn in c:\\users\\egor\\appdata\\local\\programs\\python\\python39\\lib\\site-packages (from sklearn) (0.24.2)\n",
      "Requirement already satisfied: threadpoolctl>=2.0.0 in c:\\users\\egor\\appdata\\local\\programs\\python\\python39\\lib\\site-packages (from scikit-learn->sklearn) (2.1.0)\n",
      "Requirement already satisfied: joblib>=0.11 in c:\\users\\egor\\appdata\\local\\programs\\python\\python39\\lib\\site-packages (from scikit-learn->sklearn) (1.0.1)\n",
      "Requirement already satisfied: scipy>=0.19.1 in c:\\users\\egor\\appdata\\local\\programs\\python\\python39\\lib\\site-packages (from scikit-learn->sklearn) (1.5.4)\n"
     ]
    },
    {
     "name": "stderr",
     "output_type": "stream",
     "text": [
      "WARNING: You are using pip version 21.3.1; however, version 22.1.2 is available.\n",
      "You should consider upgrading via the 'c:\\users\\egor\\appdata\\local\\programs\\python\\python39\\python.exe -m pip install --upgrade pip' command.\n"
     ]
    },
    {
     "name": "stdout",
     "output_type": "stream",
     "text": [
      "Requirement already satisfied: numpy>=1.13.3 in c:\\users\\egor\\appdata\\local\\programs\\python\\python39\\lib\\site-packages (from scikit-learn->sklearn) (1.19.3)\n"
     ]
    }
   ],
   "source": [
    "# !pip install pandas\n",
    "# !pip install numpy\n",
    "# !pip install matplotlib\n",
    "# !pip install statsmodels\n",
    "# !pip install sklearn"
   ]
  },
  {
   "cell_type": "code",
   "execution_count": 21,
   "metadata": {},
   "outputs": [],
   "source": [
    "import pandas as pd\n",
    "import numpy as np\n",
    "import matplotlib.pyplot as plt\n",
    "import json\n",
    "import pickle\n",
    "import math"
   ]
  },
  {
   "cell_type": "code",
   "execution_count": 33,
   "metadata": {},
   "outputs": [],
   "source": [
    "import tensorflow.keras as keras\n",
    "from statsmodels.api import OLS\n",
    "from sklearn import svm\n",
    "from sklearn.metrics import r2_score, mean_squared_error\n",
    "from sklearn.model_selection import train_test_split\n",
    "from sklearn.linear_model import LinearRegression, Lasso\n",
    "from sklearn.model_selection import cross_val_score\n",
    "from sklearn.preprocessing import MinMaxScaler\n",
    "from keras.models import Sequential\n",
    "from keras.layers import Dense, LSTM, Dropout\n",
    "from tensorflow.keras.layers import Dense, LSTM"
   ]
  },
  {
   "cell_type": "code",
   "execution_count": 5,
   "metadata": {},
   "outputs": [],
   "source": [
    "with open('dataset.pkl', 'rb') as f:\n",
    "    data = pickle.load(f)"
   ]
  },
  {
   "cell_type": "code",
   "execution_count": 6,
   "metadata": {},
   "outputs": [
    {
     "data": {
      "text/html": [
       "<div>\n",
       "<style scoped>\n",
       "    .dataframe tbody tr th:only-of-type {\n",
       "        vertical-align: middle;\n",
       "    }\n",
       "\n",
       "    .dataframe tbody tr th {\n",
       "        vertical-align: top;\n",
       "    }\n",
       "\n",
       "    .dataframe thead th {\n",
       "        text-align: right;\n",
       "    }\n",
       "</style>\n",
       "<table border=\"1\" class=\"dataframe\">\n",
       "  <thead>\n",
       "    <tr style=\"text-align: right;\">\n",
       "      <th></th>\n",
       "      <th>dates</th>\n",
       "      <th>prices_avg</th>\n",
       "      <th>prices_floor</th>\n",
       "      <th>prices_median</th>\n",
       "      <th>volume</th>\n",
       "      <th>marketcap</th>\n",
       "      <th>lowwatermark</th>\n",
       "      <th>amount_transactions</th>\n",
       "      <th>amount_owners</th>\n",
       "      <th>amount_sellers</th>\n",
       "      <th>amount_buyers</th>\n",
       "      <th>btc adj close</th>\n",
       "      <th>btc volume</th>\n",
       "      <th>eth adj close</th>\n",
       "      <th>eth volume</th>\n",
       "      <th>sol adj close</th>\n",
       "      <th>sol volume</th>\n",
       "      <th>change in btc</th>\n",
       "      <th>change in eth</th>\n",
       "      <th>change in sol</th>\n",
       "    </tr>\n",
       "  </thead>\n",
       "  <tbody>\n",
       "    <tr>\n",
       "      <th>1</th>\n",
       "      <td>2021-08-30</td>\n",
       "      <td>42150.432895</td>\n",
       "      <td>0.000000</td>\n",
       "      <td>32023.800781</td>\n",
       "      <td>4.611257e+07</td>\n",
       "      <td>3.916317e+06</td>\n",
       "      <td>20522.01</td>\n",
       "      <td>1094</td>\n",
       "      <td>7503.0</td>\n",
       "      <td>2.0</td>\n",
       "      <td>46.0</td>\n",
       "      <td>47054.984375</td>\n",
       "      <td>31847007016</td>\n",
       "      <td>3224.374268</td>\n",
       "      <td>19306924485</td>\n",
       "      <td>110.544807</td>\n",
       "      <td>5274104165</td>\n",
       "      <td>-1774.847656</td>\n",
       "      <td>-2.628418</td>\n",
       "      <td>16.075134</td>\n",
       "    </tr>\n",
       "    <tr>\n",
       "      <th>2</th>\n",
       "      <td>2021-08-31</td>\n",
       "      <td>34728.502238</td>\n",
       "      <td>0.000000</td>\n",
       "      <td>28324.003906</td>\n",
       "      <td>1.972579e+07</td>\n",
       "      <td>7.019255e+06</td>\n",
       "      <td>20522.01</td>\n",
       "      <td>568</td>\n",
       "      <td>7693.0</td>\n",
       "      <td>3.0</td>\n",
       "      <td>24.0</td>\n",
       "      <td>47166.687500</td>\n",
       "      <td>34730363427</td>\n",
       "      <td>3433.732666</td>\n",
       "      <td>27280502987</td>\n",
       "      <td>108.483772</td>\n",
       "      <td>7590894022</td>\n",
       "      <td>111.703125</td>\n",
       "      <td>209.358398</td>\n",
       "      <td>-2.061035</td>\n",
       "    </tr>\n",
       "    <tr>\n",
       "      <th>3</th>\n",
       "      <td>2021-09-01</td>\n",
       "      <td>34049.167712</td>\n",
       "      <td>1848.198730</td>\n",
       "      <td>24513.210938</td>\n",
       "      <td>1.637765e+07</td>\n",
       "      <td>2.655862e+07</td>\n",
       "      <td>20522.01</td>\n",
       "      <td>481</td>\n",
       "      <td>7793.0</td>\n",
       "      <td>6.0</td>\n",
       "      <td>42.0</td>\n",
       "      <td>48847.027344</td>\n",
       "      <td>39139399125</td>\n",
       "      <td>3834.828125</td>\n",
       "      <td>30070890104</td>\n",
       "      <td>111.033005</td>\n",
       "      <td>3974443896</td>\n",
       "      <td>1680.339844</td>\n",
       "      <td>401.095459</td>\n",
       "      <td>2.549232</td>\n",
       "    </tr>\n",
       "    <tr>\n",
       "      <th>4</th>\n",
       "      <td>2021-09-02</td>\n",
       "      <td>26299.774417</td>\n",
       "      <td>12414.097656</td>\n",
       "      <td>22857.037109</td>\n",
       "      <td>1.041471e+07</td>\n",
       "      <td>1.794458e+08</td>\n",
       "      <td>20522.01</td>\n",
       "      <td>396</td>\n",
       "      <td>7933.0</td>\n",
       "      <td>9.0</td>\n",
       "      <td>21.0</td>\n",
       "      <td>49327.722656</td>\n",
       "      <td>39508070319</td>\n",
       "      <td>3790.989990</td>\n",
       "      <td>24387397330</td>\n",
       "      <td>128.102386</td>\n",
       "      <td>5074399603</td>\n",
       "      <td>480.695312</td>\n",
       "      <td>-43.838135</td>\n",
       "      <td>17.069382</td>\n",
       "    </tr>\n",
       "    <tr>\n",
       "      <th>5</th>\n",
       "      <td>2021-09-03</td>\n",
       "      <td>27429.236859</td>\n",
       "      <td>16469.503906</td>\n",
       "      <td>23066.734375</td>\n",
       "      <td>7.159031e+06</td>\n",
       "      <td>2.389890e+08</td>\n",
       "      <td>20522.01</td>\n",
       "      <td>261</td>\n",
       "      <td>7992.0</td>\n",
       "      <td>3.0</td>\n",
       "      <td>32.0</td>\n",
       "      <td>50025.375000</td>\n",
       "      <td>43206179619</td>\n",
       "      <td>3940.614746</td>\n",
       "      <td>26207765094</td>\n",
       "      <td>146.583054</td>\n",
       "      <td>7526373837</td>\n",
       "      <td>697.652344</td>\n",
       "      <td>149.624756</td>\n",
       "      <td>18.480667</td>\n",
       "    </tr>\n",
       "  </tbody>\n",
       "</table>\n",
       "</div>"
      ],
      "text/plain": [
       "        dates    prices_avg  prices_floor  prices_median        volume  \\\n",
       "1  2021-08-30  42150.432895      0.000000   32023.800781  4.611257e+07   \n",
       "2  2021-08-31  34728.502238      0.000000   28324.003906  1.972579e+07   \n",
       "3  2021-09-01  34049.167712   1848.198730   24513.210938  1.637765e+07   \n",
       "4  2021-09-02  26299.774417  12414.097656   22857.037109  1.041471e+07   \n",
       "5  2021-09-03  27429.236859  16469.503906   23066.734375  7.159031e+06   \n",
       "\n",
       "      marketcap  lowwatermark  amount_transactions  amount_owners  \\\n",
       "1  3.916317e+06      20522.01                 1094         7503.0   \n",
       "2  7.019255e+06      20522.01                  568         7693.0   \n",
       "3  2.655862e+07      20522.01                  481         7793.0   \n",
       "4  1.794458e+08      20522.01                  396         7933.0   \n",
       "5  2.389890e+08      20522.01                  261         7992.0   \n",
       "\n",
       "   amount_sellers  amount_buyers  btc adj close   btc volume  eth adj close  \\\n",
       "1             2.0           46.0   47054.984375  31847007016    3224.374268   \n",
       "2             3.0           24.0   47166.687500  34730363427    3433.732666   \n",
       "3             6.0           42.0   48847.027344  39139399125    3834.828125   \n",
       "4             9.0           21.0   49327.722656  39508070319    3790.989990   \n",
       "5             3.0           32.0   50025.375000  43206179619    3940.614746   \n",
       "\n",
       "    eth volume  sol adj close  sol volume  change in btc  change in eth  \\\n",
       "1  19306924485     110.544807  5274104165   -1774.847656      -2.628418   \n",
       "2  27280502987     108.483772  7590894022     111.703125     209.358398   \n",
       "3  30070890104     111.033005  3974443896    1680.339844     401.095459   \n",
       "4  24387397330     128.102386  5074399603     480.695312     -43.838135   \n",
       "5  26207765094     146.583054  7526373837     697.652344     149.624756   \n",
       "\n",
       "   change in sol  \n",
       "1      16.075134  \n",
       "2      -2.061035  \n",
       "3       2.549232  \n",
       "4      17.069382  \n",
       "5      18.480667  "
      ]
     },
     "execution_count": 6,
     "metadata": {},
     "output_type": "execute_result"
    }
   ],
   "source": [
    "new_data = data['MutantApeYachtClub'].copy()\n",
    "new_data = new_data.dropna()\n",
    "new_data.head()"
   ]
  },
  {
   "cell_type": "code",
   "execution_count": null,
   "metadata": {},
   "outputs": [],
   "source": [
    "#         reg = LinearRegression()\n",
    "#         reg.fit(X_train, y_train)\n",
    "#         predictions = reg.predict(X_test)\n",
    "#         RMSE = np.sqrt(mean_squared_error(y_test, predictions))\n",
    "#         r2 = r2_score(y_test, predictions)"
   ]
  },
  {
   "cell_type": "code",
   "execution_count": 50,
   "metadata": {
    "scrolled": true
   },
   "outputs": [
    {
     "name": "stdout",
     "output_type": "stream",
     "text": [
      "collection Otherdeed done\n",
      "collection projectPXN done\n",
      "collection Azuki done\n",
      "collection Bored Ape Yacht Club done\n",
      "collection BEANZ Official done\n",
      "collection MutantApeYachtClub done\n",
      "collection goblintown done\n",
      "collection Doodles done\n",
      "collection CloneX done\n",
      "collection Moonbirds done\n",
      "collection Art Blocks Factory done\n",
      "collection Chimpers done\n",
      "collection Murakami.Flowers done\n",
      "collection Ragnarok done\n",
      "collection Boki done\n",
      "collection Genesis done\n",
      "collection DEGEN TOONZ done\n",
      "collection Mindblowon done\n",
      "collection AIMoonbirds done\n",
      "collection Rektguy done\n",
      "collection adidas Originals: Into the Metaverse done\n",
      "collection Meebits done\n",
      "collection Moonbirds Oddities done\n",
      "collection BoredApeKennelClub done\n",
      "collection Bored Ape Chemistry Club done\n",
      "collection Murakami.Flowers Seed done\n",
      "collection VeeFriends Series 2 done\n",
      "collection RTFKT - MNLTH done\n",
      "collection Cool Cats done\n",
      "Collection Akumu Dragonznot done\n",
      "collection Imaginary Ones done\n",
      "collection TBAC done\n",
      "collection CPG Pop done\n",
      "collection Dooplicator done\n",
      "collection RTFKT X NIKE MONOLITH done\n",
      "collection Karafuru Gachapon done\n",
      "collection BBRC OFFICIAL - IVY BOYS done\n",
      "collection Blvck Genesis done\n",
      "collection Karafuru done\n",
      "collection World Of Women done\n",
      "collection 10KTF done\n",
      "collection Admit One done\n",
      "collection Elftown.wtf done\n",
      "collection Invisible Friends done\n"
     ]
    },
    {
     "name": "stderr",
     "output_type": "stream",
     "text": [
      "c:\\users\\egor\\appdata\\local\\programs\\python\\python39\\lib\\site-packages\\sklearn\\metrics\\_regression.py:682: UndefinedMetricWarning: R^2 score is not well-defined with less than two samples.\n",
      "  warnings.warn(msg, UndefinedMetricWarning)\n"
     ]
    },
    {
     "name": "stdout",
     "output_type": "stream",
     "text": [
      "collection PROOF Collective done\n",
      "collection Sandbox's LANDs done\n",
      "collection Project NANOPASS done\n",
      "collection mfer done\n",
      "collection PREMINT Collector Pass - OFFICIAL done\n",
      "collection NFT Worlds done\n",
      "collection GOBLIN GRLZ done\n",
      "collection 3Landers done\n",
      "collection The Art of Seasons done\n",
      "collection CyberBrokers done\n",
      "collection VeeFriends done\n",
      "collection Tigerbob done\n",
      "collection Akutars done\n",
      "collection Cyber Factory 2 done\n",
      "collection Something Token done\n",
      "collection 10KTF Stockroom done\n",
      "collection Quirkies Originals done\n",
      "collection OkayBearsYachtClub done\n",
      "collection Nouns done\n",
      "collection Oddstronauts done\n",
      "collection Regulars done\n",
      "collection World Of Women Galaxy done\n",
      "collection Cheers UP Period done\n",
      "collection IDZ done\n",
      "collection Psychedelics Anonymous Genesis done\n",
      "collection MNLTHRVLD done\n",
      "collection Rareland done\n",
      "Collection pieceofshitnot done\n",
      "collection KaijuKingz done\n",
      "collection Impostors Genesis Aliens done\n",
      "collection Kith Friends done\n",
      "collection KILLABEARS done\n",
      "collection MURI done\n",
      "collection Trait Sniper done\n",
      "collection Kahiru done\n",
      "collection FLUF done\n",
      "collection PLUR done\n",
      "collection Pixelated Llama done\n",
      "collection DeadFellaz done\n",
      "collection Pixelmon - Generation 1 done\n",
      "collection Cool Pets done\n",
      "collection RTFKT SKIN VIAL: EVO X done\n",
      "collection Flippr Access Pass done\n",
      "collection MOAR by Joan Cornella done\n",
      "collection TheCurrency done\n",
      "collection Verb done\n",
      "collection HALO NFT done\n",
      "collection NFT Worlds Genesis Avatars done\n",
      "Collection hobotownnot done\n",
      "collection The Uncanny Country Club done\n"
     ]
    },
    {
     "name": "stderr",
     "output_type": "stream",
     "text": [
      "c:\\users\\egor\\appdata\\local\\programs\\python\\python39\\lib\\site-packages\\sklearn\\metrics\\_regression.py:682: UndefinedMetricWarning: R^2 score is not well-defined with less than two samples.\n",
      "  warnings.warn(msg, UndefinedMetricWarning)\n",
      "c:\\users\\egor\\appdata\\local\\programs\\python\\python39\\lib\\site-packages\\sklearn\\metrics\\_regression.py:682: UndefinedMetricWarning: R^2 score is not well-defined with less than two samples.\n",
      "  warnings.warn(msg, UndefinedMetricWarning)\n"
     ]
    }
   ],
   "source": [
    "results = pd.DataFrame(columns = ['Collection', 'R^2', 'RMSE',  'Len'])\n",
    "error = []\n",
    "\n",
    "for i in data.keys():\n",
    "    try:\n",
    "        new_data = data[i].copy()\n",
    "        new_data = new_data.dropna(axis=1, how='all')\n",
    "        new_data = new_data.dropna(axis=0)\n",
    "        y = new_data['prices_avg'].copy()\n",
    "        x = new_data.drop(['prices_floor', 'prices_avg', 'prices_median', 'dates'], axis=1).copy()\n",
    "\n",
    "        X_train, X_test, y_train, y_test = train_test_split(x, y, test_size=0.25, random_state=111)\n",
    "\n",
    "        reg = LinearRegression()\n",
    "        reg.fit(X_train, y_train)\n",
    "        predictions = reg.predict(X_test)\n",
    "        RMSE = np.sqrt(mean_squared_error(y_test, predictions))\n",
    "        r2 = r2_score(y_test, predictions)\n",
    "        \n",
    "        res = {'Collection': i,'R^2' : r2,'RMSE' : RMSE, 'Len' : len(new_data)}\n",
    "        results = results.append(res, ignore_index = True)\n",
    "        print('collection ' + i + ' done')\n",
    "    except:\n",
    "        error.append(i)\n",
    "        print('Collection ' + i + 'not done')\n"
   ]
  },
  {
   "cell_type": "code",
   "execution_count": 51,
   "metadata": {},
   "outputs": [
    {
     "name": "stdout",
     "output_type": "stream",
     "text": [
      "               R^2          RMSE\n",
      "count    88.000000     91.000000\n",
      "mean   -102.273477   3800.962225\n",
      "std     845.627776   9377.928625\n",
      "min   -7924.133902      9.723142\n",
      "25%      -1.333290    357.143354\n",
      "50%       0.497441   1102.008291\n",
      "75%       0.860979   2916.835420\n",
      "max       0.996301  71004.764392\n"
     ]
    }
   ],
   "source": [
    "print(results.describe())"
   ]
  },
  {
   "cell_type": "code",
   "execution_count": 52,
   "metadata": {},
   "outputs": [
    {
     "data": {
      "text/html": [
       "<div>\n",
       "<style scoped>\n",
       "    .dataframe tbody tr th:only-of-type {\n",
       "        vertical-align: middle;\n",
       "    }\n",
       "\n",
       "    .dataframe tbody tr th {\n",
       "        vertical-align: top;\n",
       "    }\n",
       "\n",
       "    .dataframe thead th {\n",
       "        text-align: right;\n",
       "    }\n",
       "</style>\n",
       "<table border=\"1\" class=\"dataframe\">\n",
       "  <thead>\n",
       "    <tr style=\"text-align: right;\">\n",
       "      <th></th>\n",
       "      <th>Collection</th>\n",
       "      <th>R^2</th>\n",
       "      <th>RMSE</th>\n",
       "      <th>Len</th>\n",
       "    </tr>\n",
       "  </thead>\n",
       "  <tbody>\n",
       "    <tr>\n",
       "      <th>0</th>\n",
       "      <td>Otherdeed</td>\n",
       "      <td>0.197903</td>\n",
       "      <td>6965.707566</td>\n",
       "      <td>32</td>\n",
       "    </tr>\n",
       "    <tr>\n",
       "      <th>1</th>\n",
       "      <td>projectPXN</td>\n",
       "      <td>0.683405</td>\n",
       "      <td>1247.928966</td>\n",
       "      <td>24</td>\n",
       "    </tr>\n",
       "    <tr>\n",
       "      <th>2</th>\n",
       "      <td>Azuki</td>\n",
       "      <td>0.844414</td>\n",
       "      <td>11355.921672</td>\n",
       "      <td>136</td>\n",
       "    </tr>\n",
       "    <tr>\n",
       "      <th>3</th>\n",
       "      <td>Bored Ape Yacht Club</td>\n",
       "      <td>0.910432</td>\n",
       "      <td>39745.088716</td>\n",
       "      <td>388</td>\n",
       "    </tr>\n",
       "    <tr>\n",
       "      <th>4</th>\n",
       "      <td>BEANZ Official</td>\n",
       "      <td>0.927610</td>\n",
       "      <td>1641.309059</td>\n",
       "      <td>62</td>\n",
       "    </tr>\n",
       "    <tr>\n",
       "      <th>...</th>\n",
       "      <td>...</td>\n",
       "      <td>...</td>\n",
       "      <td>...</td>\n",
       "      <td>...</td>\n",
       "    </tr>\n",
       "    <tr>\n",
       "      <th>86</th>\n",
       "      <td>TheCurrency</td>\n",
       "      <td>0.956606</td>\n",
       "      <td>3116.962154</td>\n",
       "      <td>262</td>\n",
       "    </tr>\n",
       "    <tr>\n",
       "      <th>87</th>\n",
       "      <td>Verb</td>\n",
       "      <td>-9.777651</td>\n",
       "      <td>250.390751</td>\n",
       "      <td>15</td>\n",
       "    </tr>\n",
       "    <tr>\n",
       "      <th>88</th>\n",
       "      <td>HALO NFT</td>\n",
       "      <td>NaN</td>\n",
       "      <td>358.522702</td>\n",
       "      <td>4</td>\n",
       "    </tr>\n",
       "    <tr>\n",
       "      <th>89</th>\n",
       "      <td>NFT Worlds Genesis Avatars</td>\n",
       "      <td>-0.732520</td>\n",
       "      <td>112.980155</td>\n",
       "      <td>26</td>\n",
       "    </tr>\n",
       "    <tr>\n",
       "      <th>90</th>\n",
       "      <td>The Uncanny Country Club</td>\n",
       "      <td>-90.349790</td>\n",
       "      <td>1220.364758</td>\n",
       "      <td>9</td>\n",
       "    </tr>\n",
       "  </tbody>\n",
       "</table>\n",
       "<p>91 rows × 4 columns</p>\n",
       "</div>"
      ],
      "text/plain": [
       "                    Collection        R^2          RMSE  Len\n",
       "0                    Otherdeed   0.197903   6965.707566   32\n",
       "1                   projectPXN   0.683405   1247.928966   24\n",
       "2                        Azuki   0.844414  11355.921672  136\n",
       "3         Bored Ape Yacht Club   0.910432  39745.088716  388\n",
       "4               BEANZ Official   0.927610   1641.309059   62\n",
       "..                         ...        ...           ...  ...\n",
       "86                 TheCurrency   0.956606   3116.962154  262\n",
       "87                        Verb  -9.777651    250.390751   15\n",
       "88                    HALO NFT        NaN    358.522702    4\n",
       "89  NFT Worlds Genesis Avatars  -0.732520    112.980155   26\n",
       "90    The Uncanny Country Club -90.349790   1220.364758    9\n",
       "\n",
       "[91 rows x 4 columns]"
      ]
     },
     "execution_count": 52,
     "metadata": {},
     "output_type": "execute_result"
    }
   ],
   "source": [
    "results"
   ]
  },
  {
   "cell_type": "code",
   "execution_count": 19,
   "metadata": {
    "collapsed": true
   },
   "outputs": [
    {
     "data": {
      "image/png": "[encoded data removed]",
      "text/plain": [
       "<Figure size 432x288 with 1 Axes>"
      ]
     },
     "metadata": {
      "needs_background": "light"
     },
     "output_type": "display_data"
    }
   ],
   "source": [
    "results.plot.scatter(x=\"Len\", y=\"R^2\", logy=True);"
   ]
  },
  {
   "cell_type": "code",
   "execution_count": 20,
   "metadata": {},
   "outputs": [
    {
     "data": {
      "image/png": "[encoded data removed]",
      "text/plain": [
       "<Figure size 432x288 with 1 Axes>"
      ]
     },
     "metadata": {
      "needs_background": "light"
     },
     "output_type": "display_data"
    }
   ],
   "source": [
    "results.plot.scatter(x=\"RMSE\", y=\"R^2\", logy=True);"
   ]
  },
  {
   "cell_type": "code",
   "execution_count": null,
   "metadata": {},
   "outputs": [],
   "source": []
  }
 ],
 "metadata": {
  "kernelspec": {
   "display_name": "Python 3",
   "language": "python",
   "name": "python3"
  },
  "language_info": {
   "codemirror_mode": {
    "name": "ipython",
    "version": 3
   },
   "file_extension": ".py",
   "mimetype": "text/x-python",
   "name": "python",
   "nbconvert_exporter": "python",
   "pygments_lexer": "ipython3",
   "version": "3.9.0"
  }
 },
 "nbformat": 4,
 "nbformat_minor": 4
}
