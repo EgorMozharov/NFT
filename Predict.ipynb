{
 "cells": [
  {
   "cell_type": "code",
   "execution_count": 1,
   "metadata": {
    "collapsed": true
   },
   "outputs": [
    {
     "name": "stdout",
     "output_type": "stream",
     "text": [
      "Requirement already satisfied: pandas in c:\\users\\egor\\appdata\\local\\programs\\python\\python39\\lib\\site-packages (1.1.4)\n",
      "Requirement already satisfied: python-dateutil>=2.7.3 in c:\\users\\egor\\appdata\\local\\programs\\python\\python39\\lib\\site-packages (from pandas) (2.8.1)\n"
     ]
    },
    {
     "name": "stderr",
     "output_type": "stream",
     "text": [
      "WARNING: You are using pip version 21.3.1; however, version 22.1.2 is available.\n",
      "You should consider upgrading via the 'c:\\users\\egor\\appdata\\local\\programs\\python\\python39\\python.exe -m pip install --upgrade pip' command.\n"
     ]
    },
    {
     "name": "stdout",
     "output_type": "stream",
     "text": [
      "Requirement already satisfied: pytz>=2017.2 in c:\\users\\egor\\appdata\\local\\programs\\python\\python39\\lib\\site-packages (from pandas) (2020.4)\n",
      "Requirement already satisfied: numpy>=1.15.4 in c:\\users\\egor\\appdata\\local\\programs\\python\\python39\\lib\\site-packages (from pandas) (1.19.3)\n",
      "Requirement already satisfied: six>=1.5 in c:\\users\\egor\\appdata\\local\\programs\\python\\python39\\lib\\site-packages (from python-dateutil>=2.7.3->pandas) (1.15.0)\n",
      "Requirement already satisfied: numpy in c:\\users\\egor\\appdata\\local\\programs\\python\\python39\\lib\\site-packages (1.19.3)\n"
     ]
    },
    {
     "name": "stderr",
     "output_type": "stream",
     "text": [
      "WARNING: You are using pip version 21.3.1; however, version 22.1.2 is available.\n",
      "You should consider upgrading via the 'c:\\users\\egor\\appdata\\local\\programs\\python\\python39\\python.exe -m pip install --upgrade pip' command.\n"
     ]
    },
    {
     "name": "stdout",
     "output_type": "stream",
     "text": [
      "Requirement already satisfied: matplotlib in c:\\users\\egor\\appdata\\local\\programs\\python\\python39\\lib\\site-packages (3.3.3)\n",
      "Requirement already satisfied: numpy>=1.15 in c:\\users\\egor\\appdata\\local\\programs\\python\\python39\\lib\\site-packages (from matplotlib) (1.19.3)\n",
      "Requirement already satisfied: cycler>=0.10 in c:\\users\\egor\\appdata\\local\\programs\\python\\python39\\lib\\site-packages (from matplotlib) (0.10.0)\n",
      "Requirement already satisfied: pillow>=6.2.0 in c:\\users\\egor\\appdata\\local\\programs\\python\\python39\\lib\\site-packages (from matplotlib) (8.0.1)\n",
      "Requirement already satisfied: kiwisolver>=1.0.1 in c:\\users\\egor\\appdata\\local\\programs\\python\\python39\\lib\\site-packages (from matplotlib) (1.3.1)\n",
      "Requirement already satisfied: pyparsing!=2.0.4,!=2.1.2,!=2.1.6,>=2.0.3 in c:\\users\\egor\\appdata\\local\\programs\\python\\python39\\lib\\site-packages (from matplotlib) (2.4.7)\n",
      "Requirement already satisfied: python-dateutil>=2.1 in c:\\users\\egor\\appdata\\local\\programs\\python\\python39\\lib\\site-packages (from matplotlib) (2.8.1)\n",
      "Requirement already satisfied: six in c:\\users\\egor\\appdata\\local\\programs\\python\\python39\\lib\\site-packages (from cycler>=0.10->matplotlib) (1.15.0)\n"
     ]
    },
    {
     "name": "stderr",
     "output_type": "stream",
     "text": [
      "WARNING: You are using pip version 21.3.1; however, version 22.1.2 is available.\n",
      "You should consider upgrading via the 'c:\\users\\egor\\appdata\\local\\programs\\python\\python39\\python.exe -m pip install --upgrade pip' command.\n"
     ]
    },
    {
     "name": "stdout",
     "output_type": "stream",
     "text": [
      "Requirement already satisfied: statsmodels in c:\\users\\egor\\appdata\\local\\programs\\python\\python39\\lib\\site-packages (0.12.2)\n",
      "Requirement already satisfied: pandas>=0.21 in c:\\users\\egor\\appdata\\local\\programs\\python\\python39\\lib\\site-packages (from statsmodels) (1.1.4)\n",
      "Requirement already satisfied: scipy>=1.1 in c:\\users\\egor\\appdata\\local\\programs\\python\\python39\\lib\\site-packages (from statsmodels) (1.5.4)\n",
      "Requirement already satisfied: numpy>=1.15 in c:\\users\\egor\\appdata\\local\\programs\\python\\python39\\lib\\site-packages (from statsmodels) (1.19.3)\n",
      "Requirement already satisfied: patsy>=0.5 in c:\\users\\egor\\appdata\\local\\programs\\python\\python39\\lib\\site-packages (from statsmodels) (0.5.1)\n",
      "Requirement already satisfied: python-dateutil>=2.7.3 in c:\\users\\egor\\appdata\\local\\programs\\python\\python39\\lib\\site-packages (from pandas>=0.21->statsmodels) (2.8.1)\n",
      "Requirement already satisfied: pytz>=2017.2 in c:\\users\\egor\\appdata\\local\\programs\\python\\python39\\lib\\site-packages (from pandas>=0.21->statsmodels) (2020.4)\n",
      "Requirement already satisfied: six in c:\\users\\egor\\appdata\\local\\programs\\python\\python39\\lib\\site-packages (from patsy>=0.5->statsmodels) (1.15.0)\n"
     ]
    },
    {
     "name": "stderr",
     "output_type": "stream",
     "text": [
      "WARNING: You are using pip version 21.3.1; however, version 22.1.2 is available.\n",
      "You should consider upgrading via the 'c:\\users\\egor\\appdata\\local\\programs\\python\\python39\\python.exe -m pip install --upgrade pip' command.\n"
     ]
    },
    {
     "name": "stdout",
     "output_type": "stream",
     "text": [
      "Requirement already satisfied: sklearn in c:\\users\\egor\\appdata\\local\\programs\\python\\python39\\lib\\site-packages (0.0)\n",
      "Requirement already satisfied: scikit-learn in c:\\users\\egor\\appdata\\local\\programs\\python\\python39\\lib\\site-packages (from sklearn) (0.24.2)\n",
      "Requirement already satisfied: threadpoolctl>=2.0.0 in c:\\users\\egor\\appdata\\local\\programs\\python\\python39\\lib\\site-packages (from scikit-learn->sklearn) (2.1.0)\n",
      "Requirement already satisfied: joblib>=0.11 in c:\\users\\egor\\appdata\\local\\programs\\python\\python39\\lib\\site-packages (from scikit-learn->sklearn) (1.0.1)\n",
      "Requirement already satisfied: scipy>=0.19.1 in c:\\users\\egor\\appdata\\local\\programs\\python\\python39\\lib\\site-packages (from scikit-learn->sklearn) (1.5.4)\n"
     ]
    },
    {
     "name": "stderr",
     "output_type": "stream",
     "text": [
      "WARNING: You are using pip version 21.3.1; however, version 22.1.2 is available.\n",
      "You should consider upgrading via the 'c:\\users\\egor\\appdata\\local\\programs\\python\\python39\\python.exe -m pip install --upgrade pip' command.\n"
     ]
    },
    {
     "name": "stdout",
     "output_type": "stream",
     "text": [
      "Requirement already satisfied: numpy>=1.13.3 in c:\\users\\egor\\appdata\\local\\programs\\python\\python39\\lib\\site-packages (from scikit-learn->sklearn) (1.19.3)\n"
     ]
    }
   ],
   "source": [
    "# !pip install pandas\n",
    "# !pip install numpy\n",
    "# !pip install matplotlib\n",
    "# !pip install statsmodels\n",
    "# !pip install sklearn"
   ]
  },
  {
   "cell_type": "code",
   "execution_count": 2,
   "metadata": {},
   "outputs": [],
   "source": [
    "import pandas as pd\n",
    "import numpy as np\n",
    "import matplotlib.pyplot as plt\n",
    "import json\n",
    "import pickle"
   ]
  },
  {
   "cell_type": "code",
   "execution_count": 34,
   "metadata": {},
   "outputs": [],
   "source": [
    "from statsmodels.api import OLS\n",
    "from sklearn import svm\n",
    "from sklearn.metrics import r2_score, mean_squared_error\n",
    "from sklearn.model_selection import train_test_split\n",
    "from sklearn.linear_model import LinearRegression\n",
    "from sklearn.model_selection import cross_val_score"
   ]
  },
  {
   "cell_type": "code",
   "execution_count": 4,
   "metadata": {},
   "outputs": [],
   "source": [
    "with open('dataset.pkl', 'rb') as f:\n",
    "    data = pickle.load(f)"
   ]
  },
  {
   "cell_type": "code",
   "execution_count": 5,
   "metadata": {},
   "outputs": [
    {
     "data": {
      "text/html": [
       "<div>\n",
       "<style scoped>\n",
       "    .dataframe tbody tr th:only-of-type {\n",
       "        vertical-align: middle;\n",
       "    }\n",
       "\n",
       "    .dataframe tbody tr th {\n",
       "        vertical-align: top;\n",
       "    }\n",
       "\n",
       "    .dataframe thead th {\n",
       "        text-align: right;\n",
       "    }\n",
       "</style>\n",
       "<table border=\"1\" class=\"dataframe\">\n",
       "  <thead>\n",
       "    <tr style=\"text-align: right;\">\n",
       "      <th></th>\n",
       "      <th>dates</th>\n",
       "      <th>prices_avg</th>\n",
       "      <th>prices_floor</th>\n",
       "      <th>prices_median</th>\n",
       "      <th>volume</th>\n",
       "      <th>marketcap</th>\n",
       "      <th>lowwatermark</th>\n",
       "      <th>amount_transactions</th>\n",
       "      <th>amount_owners</th>\n",
       "      <th>amount_sellers</th>\n",
       "      <th>amount_buyers</th>\n",
       "      <th>btc adj close</th>\n",
       "      <th>btc volume</th>\n",
       "      <th>eth adj close</th>\n",
       "      <th>eth volume</th>\n",
       "      <th>sol adj close</th>\n",
       "      <th>sol volume</th>\n",
       "      <th>change in btc</th>\n",
       "      <th>change in eth</th>\n",
       "      <th>change in sol</th>\n",
       "    </tr>\n",
       "  </thead>\n",
       "  <tbody>\n",
       "    <tr>\n",
       "      <th>1</th>\n",
       "      <td>2021-08-30</td>\n",
       "      <td>42150.432895</td>\n",
       "      <td>0.000000</td>\n",
       "      <td>32023.800781</td>\n",
       "      <td>4.611257e+07</td>\n",
       "      <td>3.916317e+06</td>\n",
       "      <td>20522.01</td>\n",
       "      <td>1094</td>\n",
       "      <td>7503.0</td>\n",
       "      <td>2.0</td>\n",
       "      <td>46.0</td>\n",
       "      <td>47054.984375</td>\n",
       "      <td>31847007016</td>\n",
       "      <td>3224.374268</td>\n",
       "      <td>19306924485</td>\n",
       "      <td>110.544807</td>\n",
       "      <td>5274104165</td>\n",
       "      <td>-1774.847656</td>\n",
       "      <td>-2.628418</td>\n",
       "      <td>16.075134</td>\n",
       "    </tr>\n",
       "    <tr>\n",
       "      <th>2</th>\n",
       "      <td>2021-08-31</td>\n",
       "      <td>34728.502238</td>\n",
       "      <td>0.000000</td>\n",
       "      <td>28324.003906</td>\n",
       "      <td>1.972579e+07</td>\n",
       "      <td>7.019255e+06</td>\n",
       "      <td>20522.01</td>\n",
       "      <td>568</td>\n",
       "      <td>7693.0</td>\n",
       "      <td>3.0</td>\n",
       "      <td>24.0</td>\n",
       "      <td>47166.687500</td>\n",
       "      <td>34730363427</td>\n",
       "      <td>3433.732666</td>\n",
       "      <td>27280502987</td>\n",
       "      <td>108.483772</td>\n",
       "      <td>7590894022</td>\n",
       "      <td>111.703125</td>\n",
       "      <td>209.358398</td>\n",
       "      <td>-2.061035</td>\n",
       "    </tr>\n",
       "    <tr>\n",
       "      <th>3</th>\n",
       "      <td>2021-09-01</td>\n",
       "      <td>34049.167712</td>\n",
       "      <td>1848.198730</td>\n",
       "      <td>24513.210938</td>\n",
       "      <td>1.637765e+07</td>\n",
       "      <td>2.655862e+07</td>\n",
       "      <td>20522.01</td>\n",
       "      <td>481</td>\n",
       "      <td>7793.0</td>\n",
       "      <td>6.0</td>\n",
       "      <td>42.0</td>\n",
       "      <td>48847.027344</td>\n",
       "      <td>39139399125</td>\n",
       "      <td>3834.828125</td>\n",
       "      <td>30070890104</td>\n",
       "      <td>111.033005</td>\n",
       "      <td>3974443896</td>\n",
       "      <td>1680.339844</td>\n",
       "      <td>401.095459</td>\n",
       "      <td>2.549232</td>\n",
       "    </tr>\n",
       "    <tr>\n",
       "      <th>4</th>\n",
       "      <td>2021-09-02</td>\n",
       "      <td>26299.774417</td>\n",
       "      <td>12414.097656</td>\n",
       "      <td>22857.037109</td>\n",
       "      <td>1.041471e+07</td>\n",
       "      <td>1.794458e+08</td>\n",
       "      <td>20522.01</td>\n",
       "      <td>396</td>\n",
       "      <td>7933.0</td>\n",
       "      <td>9.0</td>\n",
       "      <td>21.0</td>\n",
       "      <td>49327.722656</td>\n",
       "      <td>39508070319</td>\n",
       "      <td>3790.989990</td>\n",
       "      <td>24387397330</td>\n",
       "      <td>128.102386</td>\n",
       "      <td>5074399603</td>\n",
       "      <td>480.695312</td>\n",
       "      <td>-43.838135</td>\n",
       "      <td>17.069382</td>\n",
       "    </tr>\n",
       "    <tr>\n",
       "      <th>5</th>\n",
       "      <td>2021-09-03</td>\n",
       "      <td>27429.236859</td>\n",
       "      <td>16469.503906</td>\n",
       "      <td>23066.734375</td>\n",
       "      <td>7.159031e+06</td>\n",
       "      <td>2.389890e+08</td>\n",
       "      <td>20522.01</td>\n",
       "      <td>261</td>\n",
       "      <td>7992.0</td>\n",
       "      <td>3.0</td>\n",
       "      <td>32.0</td>\n",
       "      <td>50025.375000</td>\n",
       "      <td>43206179619</td>\n",
       "      <td>3940.614746</td>\n",
       "      <td>26207765094</td>\n",
       "      <td>146.583054</td>\n",
       "      <td>7526373837</td>\n",
       "      <td>697.652344</td>\n",
       "      <td>149.624756</td>\n",
       "      <td>18.480667</td>\n",
       "    </tr>\n",
       "  </tbody>\n",
       "</table>\n",
       "</div>"
      ],
      "text/plain": [
       "        dates    prices_avg  prices_floor  prices_median        volume  \\\n",
       "1  2021-08-30  42150.432895      0.000000   32023.800781  4.611257e+07   \n",
       "2  2021-08-31  34728.502238      0.000000   28324.003906  1.972579e+07   \n",
       "3  2021-09-01  34049.167712   1848.198730   24513.210938  1.637765e+07   \n",
       "4  2021-09-02  26299.774417  12414.097656   22857.037109  1.041471e+07   \n",
       "5  2021-09-03  27429.236859  16469.503906   23066.734375  7.159031e+06   \n",
       "\n",
       "      marketcap  lowwatermark  amount_transactions  amount_owners  \\\n",
       "1  3.916317e+06      20522.01                 1094         7503.0   \n",
       "2  7.019255e+06      20522.01                  568         7693.0   \n",
       "3  2.655862e+07      20522.01                  481         7793.0   \n",
       "4  1.794458e+08      20522.01                  396         7933.0   \n",
       "5  2.389890e+08      20522.01                  261         7992.0   \n",
       "\n",
       "   amount_sellers  amount_buyers  btc adj close   btc volume  eth adj close  \\\n",
       "1             2.0           46.0   47054.984375  31847007016    3224.374268   \n",
       "2             3.0           24.0   47166.687500  34730363427    3433.732666   \n",
       "3             6.0           42.0   48847.027344  39139399125    3834.828125   \n",
       "4             9.0           21.0   49327.722656  39508070319    3790.989990   \n",
       "5             3.0           32.0   50025.375000  43206179619    3940.614746   \n",
       "\n",
       "    eth volume  sol adj close  sol volume  change in btc  change in eth  \\\n",
       "1  19306924485     110.544807  5274104165   -1774.847656      -2.628418   \n",
       "2  27280502987     108.483772  7590894022     111.703125     209.358398   \n",
       "3  30070890104     111.033005  3974443896    1680.339844     401.095459   \n",
       "4  24387397330     128.102386  5074399603     480.695312     -43.838135   \n",
       "5  26207765094     146.583054  7526373837     697.652344     149.624756   \n",
       "\n",
       "   change in sol  \n",
       "1      16.075134  \n",
       "2      -2.061035  \n",
       "3       2.549232  \n",
       "4      17.069382  \n",
       "5      18.480667  "
      ]
     },
     "execution_count": 5,
     "metadata": {},
     "output_type": "execute_result"
    }
   ],
   "source": [
    "new_data = data['MutantApeYachtClub'].copy()\n",
    "new_data = new_data.dropna()\n",
    "new_data.head()"
   ]
  },
  {
   "cell_type": "code",
   "execution_count": 18,
   "metadata": {
    "collapsed": true
   },
   "outputs": [
    {
     "name": "stdout",
     "output_type": "stream",
     "text": [
      "Otherdeed\n",
      "Azuki\n",
      "projectPXN\n",
      "Bored Ape Yacht Club\n",
      "MutantApeYachtClub\n",
      "BEANZ Official\n",
      "goblintown\n",
      "CloneX\n",
      "Doodles\n",
      "Moonbirds\n",
      "Murakami.Flowers\n",
      "Art Blocks Factory\n",
      "Murakami.Flowers Seed\n",
      "Chimpers\n",
      "Ragnarok\n",
      "DEGEN TOONZ\n",
      "Genesis\n",
      "Mindblowon\n",
      "AIMoonbirds\n",
      "Meebits\n",
      "Boki\n",
      "BoredApeKennelClub\n",
      "Bored Ape Chemistry Club\n",
      "adidas Originals: Into the Metaverse\n",
      "Rektguy\n",
      "VeeFriends Series 2\n",
      "RTFKT - MNLTH\n",
      "Moonbirds Oddities\n",
      "Cool Cats\n",
      "Something Token\n",
      "RTFKT X NIKE MONOLITH\n",
      "Imaginary Ones\n",
      "TBAC\n",
      "10KTF\n",
      "CPG Pop\n",
      "Dooplicator\n",
      "Karafuru Gachapon\n",
      "BBRC OFFICIAL - IVY BOYS\n",
      "World Of Women\n",
      "Karafuru\n",
      "Blvck Genesis\n",
      "Admit One\n",
      "Invisible Friends\n",
      "Sandbox's LANDs\n",
      "PREMINT Collector Pass - OFFICIAL\n",
      "Project NANOPASS\n",
      "PROOF Collective\n",
      "NFT Worlds\n",
      "Elftown.wtf\n",
      "3Landers\n",
      "CyberBrokers\n",
      "The Art of Seasons\n",
      "mfer\n",
      "Regulars\n",
      "VeeFriends\n",
      "Cyber Factory 2\n",
      "Akutars\n",
      "GOBLIN GRLZ\n",
      "Tigerbob\n",
      "10KTF Stockroom\n",
      "Quirkies Originals\n",
      "Kahiru\n",
      "OkayBearsYachtClub\n",
      "Nouns\n",
      "Oddstronauts\n",
      "Lofi Originals\n",
      "Akumu Dragonz\n",
      "World Of Women Galaxy\n",
      "MNLTHRVLD\n",
      "Psychedelics Anonymous Genesis\n",
      "Impostors Genesis Aliens\n",
      "IDZ\n",
      "Cheers UP Period\n",
      "KaijuKingz\n",
      "Trait Sniper\n",
      "Rareland\n",
      "pieceofshit\n",
      "Kith Friends\n",
      "MURI\n",
      "KILLABEARS\n",
      "Pixelated Llama\n",
      "ForgottenRunesWizardsCult\n",
      "Cool Pets\n",
      "FLUF\n",
      "DeadFellaz\n",
      "PLUR\n",
      "Fragments By James Jean\n",
      "Cryptoadz\n",
      "Pixelmon - Generation 1\n",
      "RTFKT SKIN VIAL: EVO X\n",
      "Flippr Access Pass\n",
      "MOAR by Joan Cornella\n",
      "TheCurrency\n",
      "Project Godjira Generation 2\n",
      "Verb\n"
     ]
    }
   ],
   "source": [
    "for i in data.keys():\n",
    "    y = new_data[''].co"
   ]
  },
  {
   "cell_type": "code",
   "execution_count": 13,
   "metadata": {},
   "outputs": [],
   "source": [
    "y = new_data['prices_avg'].copy()\n",
    "x = new_data.drop(['prices_floor', 'prices_avg', 'prices_median', 'dates'], axis=1).copy() "
   ]
  },
  {
   "cell_type": "code",
   "execution_count": 39,
   "metadata": {},
   "outputs": [
    {
     "data": {
      "text/plain": [
       "LinearRegression()"
      ]
     },
     "execution_count": 39,
     "metadata": {},
     "output_type": "execute_result"
    }
   ],
   "source": [
    "X_train, X_test, y_train, y_test = train_test_split(x, y, test_size=0.25, random_state=111)\n",
    "\n",
    "reg = LinearRegression()\n",
    "reg.fit(X_train, y_train)"
   ]
  },
  {
   "cell_type": "code",
   "execution_count": 40,
   "metadata": {},
   "outputs": [],
   "source": [
    "predictions = reg.predict(X_test)\n",
    "df_results = pd.DataFrame({\"Actual\": y_test, \"Predicted\": predictions})\n",
    "# df_results"
   ]
  },
  {
   "cell_type": "code",
   "execution_count": 41,
   "metadata": {},
   "outputs": [
    {
     "name": "stdout",
     "output_type": "stream",
     "text": [
      "11163.884347006926 0.7946297022680513\n"
     ]
    }
   ],
   "source": [
    "RMSE = np.sqrt(mean_squared_error(y_test, predictions))\n",
    "r2 = r2_score(y_test, predictions)\n",
    "print(RMSE, r2)\n"
   ]
  },
  {
   "cell_type": "code",
   "execution_count": 46,
   "metadata": {},
   "outputs": [
    {
     "name": "stdout",
     "output_type": "stream",
     "text": [
      "-8.66 accuracy with a standard deviation of 14.94\n"
     ]
    }
   ],
   "source": [
    "ols2 = LinearRegression()\n",
    "ols_cv_mse = cross_val_score(ols2, x, y, cv=5)\n",
    "print(\"%0.2f accuracy with a standard deviation of %0.2f\" % (ols_cv_mse.mean(), ols_cv_mse.std()))"
   ]
  },
  {
   "cell_type": "code",
   "execution_count": 28,
   "metadata": {},
   "outputs": [
    {
     "name": "stdout",
     "output_type": "stream",
     "text": [
      "<class 'pandas.core.frame.DataFrame'>\n",
      "Int64Index: 203 entries, 127 to 213\n",
      "Data columns (total 16 columns):\n",
      " #   Column               Non-Null Count  Dtype  \n",
      "---  ------               --------------  -----  \n",
      " 0   volume               203 non-null    float64\n",
      " 1   marketcap            203 non-null    float64\n",
      " 2   lowwatermark         203 non-null    float64\n",
      " 3   amount_transactions  203 non-null    int64  \n",
      " 4   amount_owners        203 non-null    float64\n",
      " 5   amount_sellers       203 non-null    float64\n",
      " 6   amount_buyers        203 non-null    float64\n",
      " 7   btc adj close        203 non-null    float64\n",
      " 8   btc volume           203 non-null    int64  \n",
      " 9   eth adj close        203 non-null    float64\n",
      " 10  eth volume           203 non-null    int64  \n",
      " 11  sol adj close        203 non-null    float64\n",
      " 12  sol volume           203 non-null    int64  \n",
      " 13  change in btc        203 non-null    float64\n",
      " 14  change in eth        203 non-null    float64\n",
      " 15  change in sol        203 non-null    float64\n",
      "dtypes: float64(12), int64(4)\n",
      "memory usage: 27.0 KB\n"
     ]
    }
   ],
   "source": [
    "X_train.info()"
   ]
  },
  {
   "cell_type": "code",
   "execution_count": null,
   "metadata": {},
   "outputs": [],
   "source": []
  }
 ],
 "metadata": {
  "kernelspec": {
   "display_name": "Python 3",
   "language": "python",
   "name": "python3"
  },
  "language_info": {
   "codemirror_mode": {
    "name": "ipython",
    "version": 3
   },
   "file_extension": ".py",
   "mimetype": "text/x-python",
   "name": "python",
   "nbconvert_exporter": "python",
   "pygments_lexer": "ipython3",
   "version": "3.9.0"
  }
 },
 "nbformat": 4,
 "nbformat_minor": 4
}
