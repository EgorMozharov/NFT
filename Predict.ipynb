{
 "cells": [
  {
   "cell_type": "code",
   "execution_count": 6,
   "metadata": {
    "collapsed": true
   },
   "outputs": [
    {
     "name": "stdout",
     "output_type": "stream",
     "text": [
      "Collecting sklearn\n",
      "  Downloading sklearn-0.0.tar.gz (1.1 kB)\n",
      "Collecting scikit-learn\n",
      "  Downloading scikit_learn-1.1.1-cp39-cp39-win_amd64.whl (7.4 MB)\n",
      "Collecting threadpoolctl>=2.0.0\n",
      "  Downloading threadpoolctl-3.1.0-py3-none-any.whl (14 kB)\n",
      "Collecting joblib>=1.0.0\n",
      "  Downloading joblib-1.1.0-py2.py3-none-any.whl (306 kB)\n",
      "Requirement already satisfied: scipy>=1.3.2 in c:\\users\\egorm\\appdata\\local\\programs\\python\\python39\\lib\\site-packages (from scikit-learn->sklearn) (1.8.1)\n",
      "Requirement already satisfied: numpy>=1.17.3 in c:\\users\\egorm\\appdata\\local\\programs\\python\\python39\\lib\\site-packages (from scikit-learn->sklearn) (1.21.2)\n",
      "Using legacy 'setup.py install' for sklearn, since package 'wheel' is not installed.\n",
      "Installing collected packages: threadpoolctl, joblib, scikit-learn, sklearn\n",
      "    Running setup.py install for sklearn: started\n",
      "    Running setup.py install for sklearn: finished with status 'done'\n",
      "Successfully installed joblib-1.1.0 scikit-learn-1.1.1 sklearn-0.0 threadpoolctl-3.1.0\n"
     ]
    },
    {
     "name": "stderr",
     "output_type": "stream",
     "text": [
      "WARNING: You are using pip version 20.2.3; however, version 22.1.2 is available.\n",
      "You should consider upgrading via the 'c:\\users\\egorm\\appdata\\local\\programs\\python\\python39\\python.exe -m pip install --upgrade pip' command.\n"
     ]
    }
   ],
   "source": [
    "# !pip install pandas\n",
    "# !pip install numpy\n",
    "# !pip install matplotlib\n",
    "# !pip install statsmodels\n",
    "# !pip install sklearn"
   ]
  },
  {
   "cell_type": "code",
   "execution_count": 17,
   "metadata": {},
   "outputs": [],
   "source": [
    "import pandas as pd\n",
    "import numpy as np\n",
    "import matplotlib.pyplot as plt\n",
    "import json\n",
    "import pickle"
   ]
  },
  {
   "cell_type": "code",
   "execution_count": 8,
   "metadata": {},
   "outputs": [],
   "source": [
    "from statsmodels.api import OLS\n",
    "from sklearn.metrics import r2_score, mean_squared_error\n",
    "from sklearn.model_selection import train_test_split"
   ]
  },
  {
   "cell_type": "code",
   "execution_count": 18,
   "metadata": {},
   "outputs": [],
   "source": [
    "with open('dataset.pkl', 'rb') as f:\n",
    "    data = pickle.load(f)"
   ]
  },
  {
   "cell_type": "code",
   "execution_count": 24,
   "metadata": {},
   "outputs": [
    {
     "data": {
      "text/html": [
       "<div>\n",
       "<style scoped>\n",
       "    .dataframe tbody tr th:only-of-type {\n",
       "        vertical-align: middle;\n",
       "    }\n",
       "\n",
       "    .dataframe tbody tr th {\n",
       "        vertical-align: top;\n",
       "    }\n",
       "\n",
       "    .dataframe thead th {\n",
       "        text-align: right;\n",
       "    }\n",
       "</style>\n",
       "<table border=\"1\" class=\"dataframe\">\n",
       "  <thead>\n",
       "    <tr style=\"text-align: right;\">\n",
       "      <th></th>\n",
       "      <th>dates</th>\n",
       "      <th>prices_avg</th>\n",
       "      <th>prices_floor</th>\n",
       "      <th>prices_median</th>\n",
       "      <th>volume</th>\n",
       "      <th>marketcap</th>\n",
       "      <th>lowwatermark</th>\n",
       "      <th>amount_transactions</th>\n",
       "      <th>amount_owners</th>\n",
       "      <th>amount_sellers</th>\n",
       "      <th>amount_buyers</th>\n",
       "      <th>btc adj close</th>\n",
       "      <th>btc volume</th>\n",
       "      <th>eth adj close</th>\n",
       "      <th>eth volume</th>\n",
       "      <th>sol adj close</th>\n",
       "      <th>sol volume</th>\n",
       "      <th>change in btc</th>\n",
       "      <th>change in eth</th>\n",
       "      <th>change in sol</th>\n",
       "    </tr>\n",
       "  </thead>\n",
       "  <tbody>\n",
       "    <tr>\n",
       "      <th>1</th>\n",
       "      <td>2021-08-30</td>\n",
       "      <td>42150.432895</td>\n",
       "      <td>0.000000</td>\n",
       "      <td>32023.800781</td>\n",
       "      <td>4.611257e+07</td>\n",
       "      <td>3.916317e+06</td>\n",
       "      <td>20522.01</td>\n",
       "      <td>1094</td>\n",
       "      <td>7503.0</td>\n",
       "      <td>2.0</td>\n",
       "      <td>46.0</td>\n",
       "      <td>47054.984375</td>\n",
       "      <td>3.184701e+10</td>\n",
       "      <td>3224.374268</td>\n",
       "      <td>1.930692e+10</td>\n",
       "      <td>110.544807</td>\n",
       "      <td>5.274104e+09</td>\n",
       "      <td>-1774.847656</td>\n",
       "      <td>-2.628418</td>\n",
       "      <td>16.075134</td>\n",
       "    </tr>\n",
       "    <tr>\n",
       "      <th>2</th>\n",
       "      <td>2021-08-31</td>\n",
       "      <td>34728.502238</td>\n",
       "      <td>0.000000</td>\n",
       "      <td>28324.003906</td>\n",
       "      <td>1.972579e+07</td>\n",
       "      <td>7.019255e+06</td>\n",
       "      <td>20522.01</td>\n",
       "      <td>568</td>\n",
       "      <td>7693.0</td>\n",
       "      <td>3.0</td>\n",
       "      <td>24.0</td>\n",
       "      <td>47166.687500</td>\n",
       "      <td>3.473036e+10</td>\n",
       "      <td>3433.732666</td>\n",
       "      <td>2.728050e+10</td>\n",
       "      <td>108.483772</td>\n",
       "      <td>7.590894e+09</td>\n",
       "      <td>111.703125</td>\n",
       "      <td>209.358398</td>\n",
       "      <td>-2.061035</td>\n",
       "    </tr>\n",
       "    <tr>\n",
       "      <th>3</th>\n",
       "      <td>2021-09-01</td>\n",
       "      <td>34049.167712</td>\n",
       "      <td>1848.198730</td>\n",
       "      <td>24513.210938</td>\n",
       "      <td>1.637765e+07</td>\n",
       "      <td>2.655862e+07</td>\n",
       "      <td>20522.01</td>\n",
       "      <td>481</td>\n",
       "      <td>7793.0</td>\n",
       "      <td>6.0</td>\n",
       "      <td>42.0</td>\n",
       "      <td>48847.027344</td>\n",
       "      <td>3.913940e+10</td>\n",
       "      <td>3834.828125</td>\n",
       "      <td>3.007089e+10</td>\n",
       "      <td>111.033005</td>\n",
       "      <td>3.974444e+09</td>\n",
       "      <td>1680.339844</td>\n",
       "      <td>401.095459</td>\n",
       "      <td>2.549232</td>\n",
       "    </tr>\n",
       "    <tr>\n",
       "      <th>4</th>\n",
       "      <td>2021-09-02</td>\n",
       "      <td>26299.774417</td>\n",
       "      <td>12414.097656</td>\n",
       "      <td>22857.037109</td>\n",
       "      <td>1.041471e+07</td>\n",
       "      <td>1.794458e+08</td>\n",
       "      <td>20522.01</td>\n",
       "      <td>396</td>\n",
       "      <td>7933.0</td>\n",
       "      <td>9.0</td>\n",
       "      <td>21.0</td>\n",
       "      <td>49327.722656</td>\n",
       "      <td>3.950807e+10</td>\n",
       "      <td>3790.989990</td>\n",
       "      <td>2.438740e+10</td>\n",
       "      <td>128.102386</td>\n",
       "      <td>5.074400e+09</td>\n",
       "      <td>480.695312</td>\n",
       "      <td>-43.838135</td>\n",
       "      <td>17.069382</td>\n",
       "    </tr>\n",
       "    <tr>\n",
       "      <th>5</th>\n",
       "      <td>2021-09-03</td>\n",
       "      <td>27429.236859</td>\n",
       "      <td>16469.503906</td>\n",
       "      <td>23066.734375</td>\n",
       "      <td>7.159031e+06</td>\n",
       "      <td>2.389890e+08</td>\n",
       "      <td>20522.01</td>\n",
       "      <td>261</td>\n",
       "      <td>7992.0</td>\n",
       "      <td>3.0</td>\n",
       "      <td>32.0</td>\n",
       "      <td>50025.375000</td>\n",
       "      <td>4.320618e+10</td>\n",
       "      <td>3940.614746</td>\n",
       "      <td>2.620777e+10</td>\n",
       "      <td>146.583054</td>\n",
       "      <td>7.526374e+09</td>\n",
       "      <td>697.652344</td>\n",
       "      <td>149.624756</td>\n",
       "      <td>18.480667</td>\n",
       "    </tr>\n",
       "  </tbody>\n",
       "</table>\n",
       "</div>"
      ],
      "text/plain": [
       "        dates    prices_avg  prices_floor  prices_median        volume  \\\n",
       "1  2021-08-30  42150.432895      0.000000   32023.800781  4.611257e+07   \n",
       "2  2021-08-31  34728.502238      0.000000   28324.003906  1.972579e+07   \n",
       "3  2021-09-01  34049.167712   1848.198730   24513.210938  1.637765e+07   \n",
       "4  2021-09-02  26299.774417  12414.097656   22857.037109  1.041471e+07   \n",
       "5  2021-09-03  27429.236859  16469.503906   23066.734375  7.159031e+06   \n",
       "\n",
       "      marketcap  lowwatermark  amount_transactions  amount_owners  \\\n",
       "1  3.916317e+06      20522.01                 1094         7503.0   \n",
       "2  7.019255e+06      20522.01                  568         7693.0   \n",
       "3  2.655862e+07      20522.01                  481         7793.0   \n",
       "4  1.794458e+08      20522.01                  396         7933.0   \n",
       "5  2.389890e+08      20522.01                  261         7992.0   \n",
       "\n",
       "   amount_sellers  amount_buyers  btc adj close    btc volume  eth adj close  \\\n",
       "1             2.0           46.0   47054.984375  3.184701e+10    3224.374268   \n",
       "2             3.0           24.0   47166.687500  3.473036e+10    3433.732666   \n",
       "3             6.0           42.0   48847.027344  3.913940e+10    3834.828125   \n",
       "4             9.0           21.0   49327.722656  3.950807e+10    3790.989990   \n",
       "5             3.0           32.0   50025.375000  4.320618e+10    3940.614746   \n",
       "\n",
       "     eth volume  sol adj close    sol volume  change in btc  change in eth  \\\n",
       "1  1.930692e+10     110.544807  5.274104e+09   -1774.847656      -2.628418   \n",
       "2  2.728050e+10     108.483772  7.590894e+09     111.703125     209.358398   \n",
       "3  3.007089e+10     111.033005  3.974444e+09    1680.339844     401.095459   \n",
       "4  2.438740e+10     128.102386  5.074400e+09     480.695312     -43.838135   \n",
       "5  2.620777e+10     146.583054  7.526374e+09     697.652344     149.624756   \n",
       "\n",
       "   change in sol  \n",
       "1      16.075134  \n",
       "2      -2.061035  \n",
       "3       2.549232  \n",
       "4      17.069382  \n",
       "5      18.480667  "
      ]
     },
     "execution_count": 24,
     "metadata": {},
     "output_type": "execute_result"
    }
   ],
   "source": [
    "new_data = data['MutantApeYachtClub'].copy()\n",
    "new_data = new_data.dropna()\n",
    "new_data.head()"
   ]
  },
  {
   "cell_type": "code",
   "execution_count": 26,
   "metadata": {},
   "outputs": [],
   "source": [
    "y = new_data['prices_avg'].copy()\n",
    "x = new_data.drop(['prices_floor', 'prices_avg', 'prices_median'], axis=1).copy() "
   ]
  },
  {
   "cell_type": "code",
   "execution_count": 29,
   "metadata": {},
   "outputs": [
    {
     "data": {
      "text/plain": [
       "1      42150.432895\n",
       "2      34728.502238\n",
       "3      34049.167712\n",
       "4      26299.774417\n",
       "5      27429.236859\n",
       "           ...     \n",
       "266    32168.854391\n",
       "267    31780.733774\n",
       "268    31283.230239\n",
       "269    36870.326782\n",
       "270    36696.986979\n",
       "Name: prices_avg, Length: 270, dtype: float64"
      ]
     },
     "execution_count": 29,
     "metadata": {},
     "output_type": "execute_result"
    }
   ],
   "source": [
    "y"
   ]
  },
  {
   "cell_type": "code",
   "execution_count": null,
   "metadata": {},
   "outputs": [],
   "source": []
  }
 ],
 "metadata": {
  "kernelspec": {
   "display_name": "Python 3",
   "language": "python",
   "name": "python3"
  },
  "language_info": {
   "codemirror_mode": {
    "name": "ipython",
    "version": 3
   },
   "file_extension": ".py",
   "mimetype": "text/x-python",
   "name": "python",
   "nbconvert_exporter": "python",
   "pygments_lexer": "ipython3",
   "version": "3.9.1"
  }
 },
 "nbformat": 4,
 "nbformat_minor": 4
}
