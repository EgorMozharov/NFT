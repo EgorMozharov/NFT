{
 "cells": [
  {
   "cell_type": "code",
   "execution_count": 9,
   "metadata": {},
   "outputs": [],
   "source": [
    "import pandas as pd\n",
    "import numpy as np\n",
    "import yfinance as yf\n",
    "import time\n",
    "import matplotlib.pyplot as plt\n",
    "from datetime import datetime"
   ]
  },
  {
   "cell_type": "code",
   "execution_count": 3,
   "metadata": {},
   "outputs": [],
   "source": [
    "import requests\n",
    "import sys\n",
    "import traceback\n",
    "from getpass import getpass\n",
    "from webdriver_manager.chrome import ChromeDriverManager\n",
    "from selenium.webdriver.chrome.options import Options\n",
    "from selenium.webdriver.common.keys import Keys\n",
    "from selenium.webdriver.support.ui import WebDriverWait\n",
    "from selenium.webdriver.common.by import By\n",
    "from selenium.common.exceptions import TimeoutException\n",
    "from selenium import webdriver\n",
    "from bs4 import BeautifulSoup\n",
    "from selenium.webdriver.support import expected_conditions as EC"
   ]
  },
  {
   "cell_type": "markdown",
   "metadata": {},
   "source": [
    "# Get Data"
   ]
  },
  {
   "cell_type": "markdown",
   "metadata": {},
   "source": [
    "## Solana"
   ]
  },
  {
   "cell_type": "code",
   "execution_count": 2,
   "metadata": {},
   "outputs": [
    {
     "name": "stdout",
     "output_type": "stream",
     "text": [
      "[*********************100%***********************]  1 of 1 completed\n"
     ]
    },
    {
     "data": {
      "text/html": [
       "<div>\n",
       "<style scoped>\n",
       "    .dataframe tbody tr th:only-of-type {\n",
       "        vertical-align: middle;\n",
       "    }\n",
       "\n",
       "    .dataframe tbody tr th {\n",
       "        vertical-align: top;\n",
       "    }\n",
       "\n",
       "    .dataframe thead th {\n",
       "        text-align: right;\n",
       "    }\n",
       "</style>\n",
       "<table border=\"1\" class=\"dataframe\">\n",
       "  <thead>\n",
       "    <tr style=\"text-align: right;\">\n",
       "      <th></th>\n",
       "      <th>Open</th>\n",
       "      <th>High</th>\n",
       "      <th>Low</th>\n",
       "      <th>Close</th>\n",
       "      <th>Adj Close</th>\n",
       "      <th>Volume</th>\n",
       "    </tr>\n",
       "    <tr>\n",
       "      <th>Date</th>\n",
       "      <th></th>\n",
       "      <th></th>\n",
       "      <th></th>\n",
       "      <th></th>\n",
       "      <th></th>\n",
       "      <th></th>\n",
       "    </tr>\n",
       "  </thead>\n",
       "  <tbody>\n",
       "    <tr>\n",
       "      <th>2020-12-31</th>\n",
       "      <td>1.535606</td>\n",
       "      <td>1.550610</td>\n",
       "      <td>1.430263</td>\n",
       "      <td>1.510898</td>\n",
       "      <td>1.510898</td>\n",
       "      <td>12763260</td>\n",
       "    </tr>\n",
       "    <tr>\n",
       "      <th>2021-01-01</th>\n",
       "      <td>1.509775</td>\n",
       "      <td>1.859656</td>\n",
       "      <td>1.502038</td>\n",
       "      <td>1.842084</td>\n",
       "      <td>1.842084</td>\n",
       "      <td>25722549</td>\n",
       "    </tr>\n",
       "    <tr>\n",
       "      <th>2021-01-02</th>\n",
       "      <td>1.845586</td>\n",
       "      <td>1.989295</td>\n",
       "      <td>1.721482</td>\n",
       "      <td>1.799275</td>\n",
       "      <td>1.799275</td>\n",
       "      <td>31671064</td>\n",
       "    </tr>\n",
       "    <tr>\n",
       "      <th>2021-01-03</th>\n",
       "      <td>1.799902</td>\n",
       "      <td>2.364981</td>\n",
       "      <td>1.799902</td>\n",
       "      <td>2.161752</td>\n",
       "      <td>2.161752</td>\n",
       "      <td>55073422</td>\n",
       "    </tr>\n",
       "    <tr>\n",
       "      <th>2021-01-04</th>\n",
       "      <td>2.162412</td>\n",
       "      <td>2.485097</td>\n",
       "      <td>1.876342</td>\n",
       "      <td>2.485097</td>\n",
       "      <td>2.485097</td>\n",
       "      <td>59955405</td>\n",
       "    </tr>\n",
       "    <tr>\n",
       "      <th>...</th>\n",
       "      <td>...</td>\n",
       "      <td>...</td>\n",
       "      <td>...</td>\n",
       "      <td>...</td>\n",
       "      <td>...</td>\n",
       "      <td>...</td>\n",
       "    </tr>\n",
       "    <tr>\n",
       "      <th>2022-04-18</th>\n",
       "      <td>100.407951</td>\n",
       "      <td>102.517029</td>\n",
       "      <td>95.242775</td>\n",
       "      <td>102.158531</td>\n",
       "      <td>102.158531</td>\n",
       "      <td>1846133932</td>\n",
       "    </tr>\n",
       "    <tr>\n",
       "      <th>2022-04-19</th>\n",
       "      <td>102.202385</td>\n",
       "      <td>108.582031</td>\n",
       "      <td>101.301727</td>\n",
       "      <td>108.582031</td>\n",
       "      <td>108.582031</td>\n",
       "      <td>1711909607</td>\n",
       "    </tr>\n",
       "    <tr>\n",
       "      <th>2022-04-20</th>\n",
       "      <td>108.602196</td>\n",
       "      <td>110.722977</td>\n",
       "      <td>104.772659</td>\n",
       "      <td>105.497002</td>\n",
       "      <td>105.497002</td>\n",
       "      <td>1761531528</td>\n",
       "    </tr>\n",
       "    <tr>\n",
       "      <th>2022-04-21</th>\n",
       "      <td>105.497673</td>\n",
       "      <td>109.765327</td>\n",
       "      <td>100.767151</td>\n",
       "      <td>101.776138</td>\n",
       "      <td>101.776138</td>\n",
       "      <td>1838571747</td>\n",
       "    </tr>\n",
       "    <tr>\n",
       "      <th>2022-04-22</th>\n",
       "      <td>101.757423</td>\n",
       "      <td>103.498146</td>\n",
       "      <td>99.579430</td>\n",
       "      <td>100.612053</td>\n",
       "      <td>100.612053</td>\n",
       "      <td>1274793594</td>\n",
       "    </tr>\n",
       "  </tbody>\n",
       "</table>\n",
       "<p>478 rows × 6 columns</p>\n",
       "</div>"
      ],
      "text/plain": [
       "                  Open        High         Low       Close   Adj Close  \\\n",
       "Date                                                                     \n",
       "2020-12-31    1.535606    1.550610    1.430263    1.510898    1.510898   \n",
       "2021-01-01    1.509775    1.859656    1.502038    1.842084    1.842084   \n",
       "2021-01-02    1.845586    1.989295    1.721482    1.799275    1.799275   \n",
       "2021-01-03    1.799902    2.364981    1.799902    2.161752    2.161752   \n",
       "2021-01-04    2.162412    2.485097    1.876342    2.485097    2.485097   \n",
       "...                ...         ...         ...         ...         ...   \n",
       "2022-04-18  100.407951  102.517029   95.242775  102.158531  102.158531   \n",
       "2022-04-19  102.202385  108.582031  101.301727  108.582031  108.582031   \n",
       "2022-04-20  108.602196  110.722977  104.772659  105.497002  105.497002   \n",
       "2022-04-21  105.497673  109.765327  100.767151  101.776138  101.776138   \n",
       "2022-04-22  101.757423  103.498146   99.579430  100.612053  100.612053   \n",
       "\n",
       "                Volume  \n",
       "Date                    \n",
       "2020-12-31    12763260  \n",
       "2021-01-01    25722549  \n",
       "2021-01-02    31671064  \n",
       "2021-01-03    55073422  \n",
       "2021-01-04    59955405  \n",
       "...                ...  \n",
       "2022-04-18  1846133932  \n",
       "2022-04-19  1711909607  \n",
       "2022-04-20  1761531528  \n",
       "2022-04-21  1838571747  \n",
       "2022-04-22  1274793594  \n",
       "\n",
       "[478 rows x 6 columns]"
      ]
     },
     "execution_count": 2,
     "metadata": {},
     "output_type": "execute_result"
    }
   ],
   "source": [
    "solana_df = yf.download(\"SOL-USD\", start=\"2021-01-01\", end=datetime.today().strftime('%Y-%m-%d'))\n",
    "solana_df"
   ]
  },
  {
   "cell_type": "code",
   "execution_count": 3,
   "metadata": {},
   "outputs": [
    {
     "data": {
      "text/plain": [
       "<AxesSubplot:xlabel='Date'>"
      ]
     },
     "execution_count": 3,
     "metadata": {},
     "output_type": "execute_result"
    },
    {
     "data": {
      "image/png": "[encoded data removed]",
      "text/plain": [
       "<Figure size 432x288 with 1 Axes>"
      ]
     },
     "metadata": {
      "needs_background": "light"
     },
     "output_type": "display_data"
    }
   ],
   "source": [
    "solana_df.plot(y = \"Adj Close\", use_index=True)"
   ]
  },
  {
   "cell_type": "markdown",
   "metadata": {},
   "source": [
    "## Ethereum "
   ]
  },
  {
   "cell_type": "code",
   "execution_count": 4,
   "metadata": {},
   "outputs": [
    {
     "name": "stdout",
     "output_type": "stream",
     "text": [
      "[*********************100%***********************]  1 of 1 completed\n"
     ]
    },
    {
     "data": {
      "text/html": [
       "<div>\n",
       "<style scoped>\n",
       "    .dataframe tbody tr th:only-of-type {\n",
       "        vertical-align: middle;\n",
       "    }\n",
       "\n",
       "    .dataframe tbody tr th {\n",
       "        vertical-align: top;\n",
       "    }\n",
       "\n",
       "    .dataframe thead th {\n",
       "        text-align: right;\n",
       "    }\n",
       "</style>\n",
       "<table border=\"1\" class=\"dataframe\">\n",
       "  <thead>\n",
       "    <tr style=\"text-align: right;\">\n",
       "      <th></th>\n",
       "      <th>Open</th>\n",
       "      <th>High</th>\n",
       "      <th>Low</th>\n",
       "      <th>Close</th>\n",
       "      <th>Adj Close</th>\n",
       "      <th>Volume</th>\n",
       "    </tr>\n",
       "    <tr>\n",
       "      <th>Date</th>\n",
       "      <th></th>\n",
       "      <th></th>\n",
       "      <th></th>\n",
       "      <th></th>\n",
       "      <th></th>\n",
       "      <th></th>\n",
       "    </tr>\n",
       "  </thead>\n",
       "  <tbody>\n",
       "    <tr>\n",
       "      <th>2017-12-31</th>\n",
       "      <td>712.211975</td>\n",
       "      <td>760.348022</td>\n",
       "      <td>710.119019</td>\n",
       "      <td>756.732971</td>\n",
       "      <td>756.732971</td>\n",
       "      <td>2554269952</td>\n",
       "    </tr>\n",
       "    <tr>\n",
       "      <th>2018-01-01</th>\n",
       "      <td>755.757019</td>\n",
       "      <td>782.530029</td>\n",
       "      <td>742.004028</td>\n",
       "      <td>772.640991</td>\n",
       "      <td>772.640991</td>\n",
       "      <td>2595760128</td>\n",
       "    </tr>\n",
       "    <tr>\n",
       "      <th>2018-01-02</th>\n",
       "      <td>772.346008</td>\n",
       "      <td>914.830017</td>\n",
       "      <td>772.346008</td>\n",
       "      <td>884.443970</td>\n",
       "      <td>884.443970</td>\n",
       "      <td>5783349760</td>\n",
       "    </tr>\n",
       "    <tr>\n",
       "      <th>2018-01-03</th>\n",
       "      <td>886.000000</td>\n",
       "      <td>974.471008</td>\n",
       "      <td>868.450989</td>\n",
       "      <td>962.719971</td>\n",
       "      <td>962.719971</td>\n",
       "      <td>5093159936</td>\n",
       "    </tr>\n",
       "    <tr>\n",
       "      <th>2018-01-04</th>\n",
       "      <td>961.713013</td>\n",
       "      <td>1045.079956</td>\n",
       "      <td>946.085999</td>\n",
       "      <td>980.921997</td>\n",
       "      <td>980.921997</td>\n",
       "      <td>6502859776</td>\n",
       "    </tr>\n",
       "    <tr>\n",
       "      <th>...</th>\n",
       "      <td>...</td>\n",
       "      <td>...</td>\n",
       "      <td>...</td>\n",
       "      <td>...</td>\n",
       "      <td>...</td>\n",
       "      <td>...</td>\n",
       "    </tr>\n",
       "    <tr>\n",
       "      <th>2022-04-18</th>\n",
       "      <td>2993.483887</td>\n",
       "      <td>3062.520996</td>\n",
       "      <td>2893.912842</td>\n",
       "      <td>3057.606689</td>\n",
       "      <td>3057.606689</td>\n",
       "      <td>18629381299</td>\n",
       "    </tr>\n",
       "    <tr>\n",
       "      <th>2022-04-19</th>\n",
       "      <td>3057.570312</td>\n",
       "      <td>3125.084229</td>\n",
       "      <td>3035.535156</td>\n",
       "      <td>3104.106445</td>\n",
       "      <td>3104.106445</td>\n",
       "      <td>14156035096</td>\n",
       "    </tr>\n",
       "    <tr>\n",
       "      <th>2022-04-20</th>\n",
       "      <td>3103.935059</td>\n",
       "      <td>3157.885742</td>\n",
       "      <td>3045.288330</td>\n",
       "      <td>3077.745850</td>\n",
       "      <td>3077.745850</td>\n",
       "      <td>15547362265</td>\n",
       "    </tr>\n",
       "    <tr>\n",
       "      <th>2022-04-21</th>\n",
       "      <td>3077.829346</td>\n",
       "      <td>3173.451416</td>\n",
       "      <td>2962.410400</td>\n",
       "      <td>2987.480713</td>\n",
       "      <td>2987.480713</td>\n",
       "      <td>20783591093</td>\n",
       "    </tr>\n",
       "    <tr>\n",
       "      <th>2022-04-22</th>\n",
       "      <td>2986.938721</td>\n",
       "      <td>3024.854492</td>\n",
       "      <td>2942.358643</td>\n",
       "      <td>2964.835693</td>\n",
       "      <td>2964.835693</td>\n",
       "      <td>16782795477</td>\n",
       "    </tr>\n",
       "  </tbody>\n",
       "</table>\n",
       "<p>1574 rows × 6 columns</p>\n",
       "</div>"
      ],
      "text/plain": [
       "                   Open         High          Low        Close    Adj Close  \\\n",
       "Date                                                                          \n",
       "2017-12-31   712.211975   760.348022   710.119019   756.732971   756.732971   \n",
       "2018-01-01   755.757019   782.530029   742.004028   772.640991   772.640991   \n",
       "2018-01-02   772.346008   914.830017   772.346008   884.443970   884.443970   \n",
       "2018-01-03   886.000000   974.471008   868.450989   962.719971   962.719971   \n",
       "2018-01-04   961.713013  1045.079956   946.085999   980.921997   980.921997   \n",
       "...                 ...          ...          ...          ...          ...   \n",
       "2022-04-18  2993.483887  3062.520996  2893.912842  3057.606689  3057.606689   \n",
       "2022-04-19  3057.570312  3125.084229  3035.535156  3104.106445  3104.106445   \n",
       "2022-04-20  3103.935059  3157.885742  3045.288330  3077.745850  3077.745850   \n",
       "2022-04-21  3077.829346  3173.451416  2962.410400  2987.480713  2987.480713   \n",
       "2022-04-22  2986.938721  3024.854492  2942.358643  2964.835693  2964.835693   \n",
       "\n",
       "                 Volume  \n",
       "Date                     \n",
       "2017-12-31   2554269952  \n",
       "2018-01-01   2595760128  \n",
       "2018-01-02   5783349760  \n",
       "2018-01-03   5093159936  \n",
       "2018-01-04   6502859776  \n",
       "...                 ...  \n",
       "2022-04-18  18629381299  \n",
       "2022-04-19  14156035096  \n",
       "2022-04-20  15547362265  \n",
       "2022-04-21  20783591093  \n",
       "2022-04-22  16782795477  \n",
       "\n",
       "[1574 rows x 6 columns]"
      ]
     },
     "execution_count": 4,
     "metadata": {},
     "output_type": "execute_result"
    }
   ],
   "source": [
    "Ethereum_df = yf.download(\"ETH-USD\", start=\"2018-01-01\", end=datetime.today().strftime('%Y-%m-%d'))\n",
    "Ethereum_df"
   ]
  },
  {
   "cell_type": "code",
   "execution_count": 5,
   "metadata": {},
   "outputs": [
    {
     "data": {
      "text/plain": [
       "<AxesSubplot:xlabel='Date'>"
      ]
     },
     "execution_count": 5,
     "metadata": {},
     "output_type": "execute_result"
    },
    {
     "data": {
      "image/png": "[encoded data removed]",
      "text/plain": [
       "<Figure size 432x288 with 1 Axes>"
      ]
     },
     "metadata": {
      "needs_background": "light"
     },
     "output_type": "display_data"
    }
   ],
   "source": [
    "Ethereum_df.plot(y = \"Adj Close\", use_index=True)"
   ]
  },
  {
   "cell_type": "markdown",
   "metadata": {},
   "source": [
    "## Rarible"
   ]
  },
  {
   "cell_type": "code",
   "execution_count": 59,
   "metadata": {},
   "outputs": [],
   "source": [
    "dict_collections = {}\n",
    "url_top_100 = 'https://api-mainnet.rarible.com/marketplace/api/v4/collections/top?days=30&size=100'\n",
    "url_collections = 'https://rarible-cdn.reallm.io/collections/{}/prices?filters=%7B%7D'\n",
    "\n",
    "\n",
    "def get_collections_id(url):\n",
    "    json = requests.get(\n",
    "        url\n",
    "    ).json()\n",
    "\n",
    "    df_id = pd.DataFrame.from_dict(json)\n",
    "    df_id = df_id[['id', 'name']]\n",
    "    return df_id\n",
    "\n",
    "\n",
    "def get_collections_data(id):\n",
    "    df = pd.read_json(url_collections.format(id))\n",
    "    return df\n",
    "\n",
    "\n",
    "df_id = get_collections_id(url_top_100)\n",
    "\n",
    "for index, row in df_id.iterrows():\n",
    "    dict_collections[row['name']] = get_collections_data(row['id'])\n",
    "\n",
    "    \n",
    "print(dict_collections)"
   ]
  },
  {
   "cell_type": "code",
   "execution_count": null,
   "metadata": {},
   "outputs": [],
   "source": []
  }
 ],
 "metadata": {
  "kernelspec": {
   "display_name": "Python 3",
   "language": "python",
   "name": "python3"
  },
  "language_info": {
   "codemirror_mode": {
    "name": "ipython",
    "version": 3
   },
   "file_extension": ".py",
   "mimetype": "text/x-python",
   "name": "python",
   "nbconvert_exporter": "python",
   "pygments_lexer": "ipython3",
   "version": "3.9.0"
  }
 },
 "nbformat": 4,
 "nbformat_minor": 4
}
